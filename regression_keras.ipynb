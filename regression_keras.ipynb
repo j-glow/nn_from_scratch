{
 "cells": [
  {
   "cell_type": "code",
   "execution_count": null,
   "metadata": {},
   "outputs": [],
   "source": [
    "import numpy as np\n",
    "import matplotlib.pyplot as plt\n",
    "import tensorflow as tf"
   ]
  },
  {
   "cell_type": "code",
   "execution_count": null,
   "metadata": {},
   "outputs": [],
   "source": [
    "def generate_regression_data(n=30):\n",
    "    # Generate regression dataset\n",
    "    X = np.linspace(-5, 5, n).reshape(-1, 1)\n",
    "    y = np.sin(2 * X) + np.cos(X) + 5\n",
    "    # simulate noise\n",
    "    data_noise = np.random.normal(0, 0.05, n).reshape(-1, 1)\n",
    "    # Generate training data\n",
    "    Y = y + data_noise\n",
    "    return X.reshape(-1, 1), Y.reshape(-1, 1)\n",
    "\n",
    "X, Y = generate_regression_data()\n",
    "print(X.shape, Y.shape)"
   ]
  },
  {
   "cell_type": "code",
   "execution_count": null,
   "metadata": {},
   "outputs": [],
   "source": [
    "# Linear regression models\n",
    "\n",
    "## One hidden layer\n",
    "model_1 = tf.keras.Sequential([\n",
    "    tf.keras.layers.Input(shape=(1,)),\n",
    "    tf.keras.layers.Dense(32, activation='relu'),\n",
    "    tf.keras.layers.Dense(1),\n",
    "])\n",
    "\n",
    "## Two hidden layers\n",
    "model_2 = tf.keras.Sequential([\n",
    "    tf.keras.layers.Input(shape=(1,)),\n",
    "    tf.keras.layers.Dense(32, activation='relu'),\n",
    "    tf.keras.layers.Dense(32, activation='relu'),\n",
    "    tf.keras.layers.Dense(1),\n",
    "])\n",
    "\n",
    "## Three hidden layers\n",
    "model_3 = tf.keras.Sequential([\n",
    "    tf.keras.layers.Input(shape=(1,)),\n",
    "    tf.keras.layers.Dense(32, activation='relu'),\n",
    "    tf.keras.layers.Dense(32, activation='relu'),\n",
    "    tf.keras.layers.Dense(32, activation='relu'),\n",
    "    tf.keras.layers.Dense(1),\n",
    "])\n",
    "\n",
    "## Compile all of the models\n",
    "model_1.compile(optimizer='SGD', loss='mse', metrics=['mae'])\n",
    "model_2.compile(optimizer='SGD', loss='mse', metrics=['mae'])\n",
    "model_3.compile(optimizer='SGD', loss='mse', metrics=['mae'])\n",
    "\n",
    "## Train for 500 epochs all of the models:\n",
    "model_1.fit(X, Y, epochs=500, verbose=0)\n",
    "model_2.fit(X, Y, epochs=500, verbose=0)\n",
    "model_3.fit(X, Y, epochs=500, verbose=0)"
   ]
  },
  {
   "cell_type": "code",
   "execution_count": null,
   "metadata": {},
   "outputs": [],
   "source": [
    "predX = np.linspace(np.min(X), np.max(X), 100)\n",
    "predY1 = model_1.predict(predX)\n",
    "predY2 = model_2.predict(predX)\n",
    "predY3 = model_3.predict(predX)\n",
    "\n",
    "plt.figure()\n",
    "plt.scatter(X, Y, label='Train data', color='blue')\n",
    "plt.plot(predX, predY1, label='1-layer model', color='green')\n",
    "plt.plot(predX, predY2, label='2-layer model', color='red')\n",
    "plt.plot(predX, predY3, label='3-layer model', color='orange')\n",
    "\n",
    "plt.xlabel('x')\n",
    "plt.ylabel('y')\n",
    "plt.title(\"Regression\")\n",
    "plt.legend()\n",
    "plt.grid(True)\n",
    "plt.show()"
   ]
  },
  {
   "cell_type": "code",
   "execution_count": null,
   "metadata": {},
   "outputs": [],
   "source": [
    "# Best model was the 3-layer one (probably because of the biggest size? lol)\n",
    "\n",
    "## recreating it with additinal normalization layer\n",
    "model_new = tf.keras.models.Sequential([\n",
    "    tf.keras.layers.experimental.preprocessing.Normalization(mean=0., variance=1.),\n",
    "    model_3,\n",
    "])\n",
    "\n",
    "model_new.compile(optimizer='SGD', loss='mse', metrics=['mae'])\n",
    "model_new.fit(X, Y, epochs=1000, verbose=0)"
   ]
  },
  {
   "cell_type": "code",
   "execution_count": null,
   "metadata": {},
   "outputs": [],
   "source": [
    "predX = np.linspace(np.min(X), np.max(X), 100)\n",
    "predY = model_new.predict(predX)\n",
    "\n",
    "plt.figure()\n",
    "plt.scatter(X, Y, label='Train data', color='blue')\n",
    "plt.plot(predX, predY, label='3-layer model, normalized input', color='green')\n",
    "\n",
    "plt.xlabel('x')\n",
    "plt.ylabel('y')\n",
    "plt.title(\"Regression\")\n",
    "plt.legend()\n",
    "plt.grid(True)\n",
    "plt.show()"
   ]
  }
 ],
 "metadata": {
  "kernelspec": {
   "display_name": "Python 3",
   "language": "python",
   "name": "python3"
  },
  "language_info": {
   "codemirror_mode": {
    "name": "ipython",
    "version": 3
   },
   "file_extension": ".py",
   "mimetype": "text/x-python",
   "name": "python",
   "nbconvert_exporter": "python",
   "pygments_lexer": "ipython3",
   "version": "3.10.12"
  }
 },
 "nbformat": 4,
 "nbformat_minor": 2
}
